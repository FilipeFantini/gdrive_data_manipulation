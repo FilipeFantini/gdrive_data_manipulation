{
  "nbformat": 4,
  "nbformat_minor": 0,
  "metadata": {
    "colab": {
      "provenance": [],
      "mount_file_id": "1SgBnqWEI3gf4cxr0_nXMIbrGeA9WV_hQ",
      "authorship_tag": "ABX9TyMuOyowyR258DcmCi8v/fhz"
    },
    "kernelspec": {
      "name": "python3",
      "display_name": "Python 3"
    },
    "language_info": {
      "name": "python"
    }
  },
  "cells": [
    {
      "cell_type": "code",
      "execution_count": null,
      "metadata": {
        "colab": {
          "base_uri": "https://localhost:8080/"
        },
        "id": "1TS-fla-frwD",
        "outputId": "6fda79a8-d8cb-412c-ec2b-941c524730dd"
      },
      "outputs": [
        {
          "output_type": "stream",
          "name": "stdout",
          "text": [
            "Drive already mounted at /content/drive; to attempt to forcibly remount, call drive.mount(\"/content/drive\", force_remount=True).\n"
          ]
        }
      ],
      "source": [
        "from google.colab import drive\n",
        "drive.mount('/content/drive')"
      ]
    },
    {
      "cell_type": "markdown",
      "source": [
        "Data Manipulation (ETL)"
      ],
      "metadata": {
        "id": "7-efvCVr6KD6"
      }
    },
    {
      "cell_type": "code",
      "source": [
        "import pandas as pd\n",
        "import os\n",
        "\n",
        "# Define the folder paths\n",
        "folder_paths = ['/content/drive/MyDrive/Docs - gerais/Finanças/Filipe', '/content/drive/MyDrive/Docs - gerais/Finanças/Giovanna']\n",
        "\n",
        "# Create an empty list to store the dataframes\n",
        "dfs = []\n",
        "\n",
        "# Loop through each folder path\n",
        "for folder_path in folder_paths:\n",
        "    # List all files in the folder\n",
        "    files = os.listdir(folder_path)\n",
        "    print(files)\n",
        "\n",
        "    # Filter out only Excel files\n",
        "    excel_files = [file for file in files if file.endswith('.xlsx')]\n",
        "    print(excel_files)\n",
        "    # Loop through each Excel file in the folder\n",
        "    for file in excel_files:\n",
        "        # Construct the full file path\n",
        "        file_path = os.path.join(folder_path, file)\n",
        "        # Read Excel file into a dataframe\n",
        "        df = pd.read_excel(file_path)\n",
        "        # Add a new column indicating the source folder\n",
        "        df['Source_Folder'] = os.path.basename(folder_path)\n",
        "        # Append the dataframe to the list\n",
        "        dfs.append(df)\n",
        "\n",
        "# Concatenate all dataframes into a single dataframe\n",
        "combined_df = pd.concat(dfs, ignore_index=True)\n",
        "\n",
        "# Remove duplicates\n",
        "combined_df = combined_df.drop_duplicates()\n",
        "combined_df['Period'] = pd.to_datetime(combined_df['Period']).dt.date\n",
        "combined_df['period_yy_mm'] = pd.to_datetime(combined_df['Period']).dt.strftime('%m-%Y')\n",
        "combined_df['EUR_pos_neg'] = combined_df['EUR']\n",
        "combined_df['EUR_salary'] = 0\n",
        "combined_df['EUR_no_salary'] = 0\n",
        "# Apply the condition to multiply 'EUR_no_salary' by -1 where 'Category' contains 'Salary'\n",
        "combined_df.loc[combined_df['Income/Expense'].str.contains('Exp.'), 'EUR_pos_neg'] *= -1\n",
        "\n",
        "combined_df.loc[combined_df['Income/Expense'].str.contains('Exp.'), 'EUR_no_salary'] = combined_df['EUR']\n",
        "\n",
        "combined_df.loc[combined_df['Income/Expense'].str.contains('Income'), 'EUR_salary'] = combined_df['EUR']\n",
        "\n",
        "combined_df.head(50)"
      ],
      "metadata": {
        "id": "yKtY6HvnjOJL"
      },
      "execution_count": null,
      "outputs": []
    },
    {
      "cell_type": "markdown",
      "source": [
        "Save DF as Google Sheets file"
      ],
      "metadata": {
        "id": "UtcrWhqj6R3T"
      }
    },
    {
      "cell_type": "code",
      "source": [
        "from google.colab import auth\n",
        "from google.auth import default\n",
        "\n",
        "try:\n",
        "  import gspread\n",
        "except ModuleNotFoundError:\n",
        "  if 'google.colab' in str(get_ipython()):\n",
        "    %pip install gspread\n",
        "  import gspread\n",
        "\n",
        "auth.authenticate_user()\n",
        "creds, _ = default()\n",
        "gc = gspread.authorize(creds)"
      ],
      "metadata": {
        "id": "DsvwZ6S8-6-Q"
      },
      "execution_count": null,
      "outputs": []
    },
    {
      "cell_type": "code",
      "source": [
        "worksheet = gc.open(\"Controle de Despesas dos Bolinhos\")\n",
        "sheet1 = worksheet.sheet1\n",
        "\n",
        "combined_df['Period'] = combined_df['Period'].astype(str)\n",
        "sheet1.batch_clear(['A1:Z50000'])\n",
        "sheet1.update([combined_df.columns.values.tolist()] + combined_df.fillna(-1).values.tolist())"
      ],
      "metadata": {
        "colab": {
          "base_uri": "https://localhost:8080/"
        },
        "id": "vLNtClF6_S3b",
        "outputId": "b3e81637-b92b-4959-d9e9-802eafa1bafa"
      },
      "execution_count": null,
      "outputs": [
        {
          "output_type": "execute_result",
          "data": {
            "text/plain": [
              "{'spreadsheetId': '1fmwiQIQd8nCrCghd5n8cpll8opJGiMtWz9Hs--J3z4w',\n",
              " 'updatedRange': 'raw!A1:P598',\n",
              " 'updatedRows': 598,\n",
              " 'updatedColumns': 16,\n",
              " 'updatedCells': 9568}"
            ]
          },
          "metadata": {},
          "execution_count": 34
        }
      ]
    }
  ]
}